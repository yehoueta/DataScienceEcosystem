{
 "cells": [
  {
   "cell_type": "markdown",
   "id": "3fe232de-cb11-4655-b907-a20c88efde9b",
   "metadata": {},
   "source": [
    "# Data Science Tools and Ecosystem"
   ]
  },
  {
   "cell_type": "markdown",
   "id": "ca447bc4-a1de-47c9-a3ef-63a8a2c16186",
   "metadata": {},
   "source": [
    "In this notebook, Data Science Tools and Ecosystem are summarized."
   ]
  },
  {
   "cell_type": "markdown",
   "id": "82773099-e413-45cc-a6c1-f671c2fd4ae1",
   "metadata": {},
   "source": [
    "Some of the popular languages that Data Scientists use are:\n",
    "1. Python\n",
    "2. R\n",
    "3. SQL\n",
    "4. Julia"
   ]
  },
  {
   "cell_type": "markdown",
   "id": "103d7b21-1c67-4b83-b5a5-1ae7aa691e6f",
   "metadata": {},
   "source": [
    "Some of the commonly used libraries used by Data Scientists include:\n",
    "1. Pandas\n",
    "2. NumPy\n",
    "3. Scikit-learn\n",
    "4. TensorFlow"
   ]
  },
  {
   "cell_type": "markdown",
   "id": "359649ab-1c62-41da-bd75-55932f3e5650",
   "metadata": {},
   "source": [
    "| Data Science Tools |\n",
    "|--------------------|\n",
    "| Jupyter Notebook   |\n",
    "| RStudio            |\n",
    "| Apache Spark       |"
   ]
  },
  {
   "cell_type": "markdown",
   "id": "1cead2a8-96cb-4e52-b05a-5d6f686b9f20",
   "metadata": {},
   "source": [
    "### Below are a few examples of evaluating arithmetic expressions in Python."
   ]
  },
  {
   "cell_type": "markdown",
   "id": "94896cc9-a936-4e9e-bad4-70065e69f8e0",
   "metadata": {},
   "source": [
    "# This is a simple arithmetic expression to multiply then add integers.\n",
    "(3 * 4) + 5"
   ]
  },
  {
   "cell_type": "code",
   "execution_count": 27,
   "id": "de69e0ba-e47f-4313-b8a3-b1149589c476",
   "metadata": {},
   "outputs": [
    {
     "data": {
      "text/plain": [
       "3.3333333333333335"
      ]
     },
     "execution_count": 27,
     "metadata": {},
     "output_type": "execute_result"
    }
   ],
   "source": [
    "# This will convert 200 minutes to hours by dividing by 60.\n",
    "200 / 60"
   ]
  },
  {
   "cell_type": "markdown",
   "id": "3195bb3c-e402-4195-a293-daee755d7045",
   "metadata": {},
   "source": [
    "**Objectives:**\n",
    "- List popular languages for Data Science.\n",
    "- List commonly used libraries in Data Science.\n",
    "- Introduce Data Science tools.\n",
    "- Demonstrate basic arithmetic operations in Python.\n",
    "- Share the notebook on GitHub."
   ]
  },
  {
   "cell_type": "markdown",
   "id": "653f4e5d-d5d1-4818-b01d-b9850e94db81",
   "metadata": {},
   "source": [
    "## Author\n",
    "- Name: Edme Jorias Mahugnon Yehoueta\n",
    "- Date: 21/04/2024\n",
    "- Size: 1.85\n",
    "- Age: 26"
   ]
  },
  {
   "cell_type": "code",
   "execution_count": null,
   "id": "0d850222-ed20-4e32-b5dc-da4448c714df",
   "metadata": {},
   "outputs": [],
   "source": []
  }
 ],
 "metadata": {
  "kernelspec": {
   "display_name": "Python [conda env:base] *",
   "language": "python",
   "name": "conda-base-py"
  },
  "language_info": {
   "codemirror_mode": {
    "name": "ipython",
    "version": 3
   },
   "file_extension": ".py",
   "mimetype": "text/x-python",
   "name": "python",
   "nbconvert_exporter": "python",
   "pygments_lexer": "ipython3",
   "version": "3.12.7"
  }
 },
 "nbformat": 4,
 "nbformat_minor": 5
}
